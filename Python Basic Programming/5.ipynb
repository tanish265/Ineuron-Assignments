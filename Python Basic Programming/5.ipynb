{
 "cells": [
  {
   "cell_type": "markdown",
   "metadata": {},
   "source": [
    "1.\tWrite a Python Program to Find LCM?"
   ]
  },
  {
   "cell_type": "code",
   "execution_count": 3,
   "metadata": {},
   "outputs": [
    {
     "name": "stdout",
     "output_type": "stream",
     "text": [
      "Enter first number: 6\n",
      "Enter second number: 3\n",
      "The L.C.M. of 6 and 3 is 6\n"
     ]
    }
   ],
   "source": [
    "def lcm(x, y):  \n",
    "   if x > y:  \n",
    "       greater = x  \n",
    "   else:  \n",
    "       greater = y  \n",
    "   while(True):  \n",
    "       if((greater % x == 0) and (greater % y == 0)):  \n",
    "           lcm = greater  \n",
    "           break  \n",
    "       greater += 1  \n",
    "   return lcm  \n",
    "  \n",
    "  \n",
    "num1 = int(input(\"Enter first number: \"))  \n",
    "num2 = int(input(\"Enter second number: \"))  \n",
    "print(\"The L.C.M. of\", num1,\"and\", num2,\"is\", lcm(num1, num2)) "
   ]
  },
  {
   "cell_type": "markdown",
   "metadata": {},
   "source": [
    "2.\tWrite a Python Program to Find HCF?"
   ]
  },
  {
   "cell_type": "code",
   "execution_count": 4,
   "metadata": {},
   "outputs": [
    {
     "name": "stdout",
     "output_type": "stream",
     "text": [
      "The HCF is 100\n"
     ]
    }
   ],
   "source": [
    "def compute_hcf(x, y):\n",
    "   while(y):\n",
    "       x, y = y, x % y\n",
    "   return x\n",
    "\n",
    "hcf = compute_hcf(300, 400)\n",
    "print(\"The HCF is\", hcf)"
   ]
  },
  {
   "cell_type": "markdown",
   "metadata": {},
   "source": [
    "3.\tWrite a Python Program to Convert Decimal to Binary, Octal and Hexadecimal?"
   ]
  },
  {
   "cell_type": "code",
   "execution_count": 10,
   "metadata": {},
   "outputs": [
    {
     "name": "stdout",
     "output_type": "stream",
     "text": [
      "Decimal number is 15\n",
      "Binary number is 1111\n",
      "Octal number is 17\n",
      "Hexadecimal number is f\n"
     ]
    }
   ],
   "source": [
    "def converter(num):\n",
    "    print(\"Decimal number is\",num)\n",
    "    print(\"Binary number is\",bin(num).replace(\"0b\", \"\"))\n",
    "    print(\"Octal number is\",oct(num).replace(\"0o\", \"\"))\n",
    "    print(\"Hexadecimal number is\",hex(num).replace(\"0x\", \"\"))\n",
    "\n",
    "converter(15) "
   ]
  },
  {
   "cell_type": "markdown",
   "metadata": {},
   "source": [
    "4.\tWrite a Python Program To Find ASCII value of a character?"
   ]
  },
  {
   "cell_type": "code",
   "execution_count": 11,
   "metadata": {},
   "outputs": [
    {
     "name": "stdout",
     "output_type": "stream",
     "text": [
      "Ascii of character T is 84\n"
     ]
    }
   ],
   "source": [
    "def char_to_ascii(charac):\n",
    "    print(\"Ascii of character \"+charac+\" is\",ord(charac))\n",
    "\n",
    "char_to_ascii('T')    "
   ]
  },
  {
   "cell_type": "markdown",
   "metadata": {},
   "source": [
    "5.\tWrite a Python Program to Make a Simple Calculator with 4 basic mathematical operations?"
   ]
  },
  {
   "cell_type": "code",
   "execution_count": 17,
   "metadata": {},
   "outputs": [
    {
     "name": "stdout",
     "output_type": "stream",
     "text": [
      "Answer is 10\n"
     ]
    }
   ],
   "source": [
    "def calculator(a,operator,b):\n",
    "    if(operator=='+'):\n",
    "        print(\"Answer is\",a+b)\n",
    "    if(operator=='-'):\n",
    "        print(\"Answer is\",a-b)\n",
    "    if(operator=='*'):\n",
    "        print(\"Answer is\",a*b)\n",
    "    if(operator=='/'):\n",
    "        print(\"Answer is\",a/b)\n",
    "\n",
    "calculator(5,'*',2)"
   ]
  },
  {
   "cell_type": "code",
   "execution_count": null,
   "metadata": {},
   "outputs": [],
   "source": []
  }
 ],
 "metadata": {
  "kernelspec": {
   "display_name": "Python 3",
   "language": "python",
   "name": "python3"
  },
  "language_info": {
   "codemirror_mode": {
    "name": "ipython",
    "version": 3
   },
   "file_extension": ".py",
   "mimetype": "text/x-python",
   "name": "python",
   "nbconvert_exporter": "python",
   "pygments_lexer": "ipython3",
   "version": "3.8.3"
  }
 },
 "nbformat": 4,
 "nbformat_minor": 4
}
