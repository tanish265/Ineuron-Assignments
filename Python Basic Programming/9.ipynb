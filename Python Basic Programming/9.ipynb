{
 "cells": [
  {
   "cell_type": "markdown",
   "metadata": {},
   "source": [
    "1.\tWrite a Python program to check if the given number is a Disarium Number?"
   ]
  },
  {
   "cell_type": "code",
   "execution_count": 12,
   "metadata": {},
   "outputs": [
    {
     "name": "stdout",
     "output_type": "stream",
     "text": [
      "yes 518 is a disarium number\n"
     ]
    }
   ],
   "source": [
    "n= 518\n",
    "\n",
    "import math\n",
    "\n",
    " \n",
    "def countDigit(n):\n",
    "    return math.floor(math.log10(n)+1)\n",
    "\n",
    "def count_digits(n):\n",
    "    n = str(n)\n",
    "    return len(n)\n",
    "\n",
    "\n",
    "digits=count_digits(n)\n",
    "sum=0\n",
    "temp=n\n",
    "for i in range(digits,0,-1):\n",
    "    x=temp%10\n",
    "    sum=sum+x**i\n",
    "    temp=temp//10\n",
    "if(sum==n):\n",
    "    print(\"yes\",n,\"is a disarium number\")\n",
    "else:\n",
    "    print(n,\"is not a disarium number\")"
   ]
  },
  {
   "cell_type": "markdown",
   "metadata": {},
   "source": [
    "2.\tWrite a Python program to print all disarium numbers between 1 to 100?"
   ]
  },
  {
   "cell_type": "code",
   "execution_count": 13,
   "metadata": {
    "scrolled": true
   },
   "outputs": [
    {
     "name": "stdout",
     "output_type": "stream",
     "text": [
      "1 is a disarium number\n",
      "2 is a disarium number\n",
      "3 is a disarium number\n",
      "4 is a disarium number\n",
      "5 is a disarium number\n",
      "6 is a disarium number\n",
      "7 is a disarium number\n",
      "8 is a disarium number\n",
      "9 is a disarium number\n",
      "89 is a disarium number\n"
     ]
    }
   ],
   "source": [
    "def disarium_num(n):\n",
    "    digits=count_digits(n)\n",
    "    sum=0\n",
    "    temp=n\n",
    "    for i in range(digits,0,-1):\n",
    "        x=temp%10\n",
    "        sum=sum+x**i\n",
    "        temp=temp//10\n",
    "    if(sum==n):\n",
    "        print(n,\"is a disarium number\")\n",
    "\n",
    "for i in range(1,101):\n",
    "    disarium_num(i)"
   ]
  },
  {
   "cell_type": "markdown",
   "metadata": {},
   "source": [
    "3.\tWrite a Python program to check if the given number is Happy Number?"
   ]
  },
  {
   "cell_type": "code",
   "execution_count": 17,
   "metadata": {},
   "outputs": [
    {
     "name": "stdout",
     "output_type": "stream",
     "text": [
      "1442 is not a Happy number\n"
     ]
    }
   ],
   "source": [
    "n = 1442\n",
    "\n",
    "def numSquareSum(n):\n",
    "    squareSum = 0;\n",
    "    while(n):\n",
    "        squareSum += (n % 10) * (n % 10);\n",
    "        n = int(n / 10);\n",
    "    return squareSum;\n",
    "  \n",
    "\n",
    "def isHappynumber(n):\n",
    "  \n",
    "    # initialize slow \n",
    "    # and fast by n\n",
    "    slow = n;\n",
    "    fast = n;\n",
    "    while(True):\n",
    "          \n",
    "        # move slow number\n",
    "        # by one iteration\n",
    "        slow = numSquareSum(slow);\n",
    "  \n",
    "        # move fast number\n",
    "        # by two iteration\n",
    "        fast = numSquareSum(numSquareSum(fast));\n",
    "        if(slow != fast):\n",
    "            continue;\n",
    "        else:\n",
    "            break;\n",
    "  \n",
    "    # if both number meet at 1, \n",
    "    # then return true\n",
    "    return (slow == 1);\n",
    "  \n",
    "\n",
    "if (isHappynumber(n)):\n",
    "    print(n , \"is a Happy number\");\n",
    "else:\n",
    "    print(n , \"is not a Happy number\");"
   ]
  },
  {
   "cell_type": "markdown",
   "metadata": {},
   "source": [
    "4.\tWrite a Python program to print all happy numbers between 1 and 100?"
   ]
  },
  {
   "cell_type": "code",
   "execution_count": 20,
   "metadata": {},
   "outputs": [
    {
     "name": "stdout",
     "output_type": "stream",
     "text": [
      "1 is a Happy number\n",
      "7 is a Happy number\n",
      "10 is a Happy number\n",
      "13 is a Happy number\n",
      "19 is a Happy number\n",
      "23 is a Happy number\n",
      "28 is a Happy number\n",
      "31 is a Happy number\n",
      "32 is a Happy number\n",
      "44 is a Happy number\n",
      "49 is a Happy number\n",
      "68 is a Happy number\n",
      "70 is a Happy number\n",
      "79 is a Happy number\n",
      "82 is a Happy number\n",
      "86 is a Happy number\n",
      "91 is a Happy number\n",
      "94 is a Happy number\n",
      "97 is a Happy number\n",
      "100 is a Happy number\n"
     ]
    }
   ],
   "source": [
    "for i in range(1,101):\n",
    "    if (isHappynumber(i)):\n",
    "        print(i, \"is a Happy number\");"
   ]
  },
  {
   "cell_type": "markdown",
   "metadata": {},
   "source": [
    "5.\tWrite a Python program to determine whether the given number is a Harshad Number?"
   ]
  },
  {
   "cell_type": "code",
   "execution_count": 26,
   "metadata": {},
   "outputs": [
    {
     "name": "stdout",
     "output_type": "stream",
     "text": [
      "19 is not a harshad number\n"
     ]
    }
   ],
   "source": [
    "n=19\n",
    "\n",
    "def sum_of_digits(n):\n",
    "    n = str(n)\n",
    "    sum=0\n",
    "    for i in range(len(n)):\n",
    "        sum=sum+int(n[i])\n",
    "    return sum\n",
    "\n",
    "if(n%sum_of_digits(n)==0):\n",
    "    print(n,\"is a harshad number\")\n",
    "else:\n",
    "    print(n,\"is not a harshad number\")"
   ]
  },
  {
   "cell_type": "markdown",
   "metadata": {},
   "source": [
    "6.\tWrite a Python program to print all pronic numbers between 1 and 100?"
   ]
  },
  {
   "cell_type": "code",
   "execution_count": 29,
   "metadata": {},
   "outputs": [
    {
     "name": "stdout",
     "output_type": "stream",
     "text": [
      "0\n",
      "2\n",
      "6\n",
      "12\n",
      "20\n",
      "30\n",
      "42\n",
      "56\n",
      "72\n",
      "90\n"
     ]
    }
   ],
   "source": [
    "sum=0\n",
    "for i in range(12):\n",
    "    sum=i*(i+1)\n",
    "    if (sum<101):\n",
    "        print(sum)"
   ]
  },
  {
   "cell_type": "code",
   "execution_count": null,
   "metadata": {},
   "outputs": [],
   "source": []
  }
 ],
 "metadata": {
  "kernelspec": {
   "display_name": "Python 3",
   "language": "python",
   "name": "python3"
  },
  "language_info": {
   "codemirror_mode": {
    "name": "ipython",
    "version": 3
   },
   "file_extension": ".py",
   "mimetype": "text/x-python",
   "name": "python",
   "nbconvert_exporter": "python",
   "pygments_lexer": "ipython3",
   "version": "3.8.3"
  }
 },
 "nbformat": 4,
 "nbformat_minor": 4
}
