{
 "cells": [
  {
   "cell_type": "markdown",
   "metadata": {},
   "source": [
    "1.\tWrite a Python Program to Find the Factorial of a Number?"
   ]
  },
  {
   "cell_type": "code",
   "execution_count": 24,
   "metadata": {},
   "outputs": [
    {
     "data": {
      "text/plain": [
       "6"
      ]
     },
     "execution_count": 24,
     "metadata": {},
     "output_type": "execute_result"
    }
   ],
   "source": [
    "n=3\n",
    "\n",
    "fact=n\n",
    "if n==0:\n",
    "    fact=1\n",
    "for i in range(2,n):\n",
    "    fact=fact*i\n",
    "fact"
   ]
  },
  {
   "cell_type": "markdown",
   "metadata": {},
   "source": [
    "2.\tWrite a Python Program to Display the multiplication Table?"
   ]
  },
  {
   "cell_type": "code",
   "execution_count": 25,
   "metadata": {},
   "outputs": [
    {
     "name": "stdout",
     "output_type": "stream",
     "text": [
      "5 * 1 = 5\n",
      "5 * 2 = 10\n",
      "5 * 3 = 15\n",
      "5 * 4 = 20\n",
      "5 * 5 = 25\n",
      "5 * 6 = 30\n",
      "5 * 7 = 35\n",
      "5 * 8 = 40\n",
      "5 * 9 = 45\n",
      "5 * 10 = 50\n"
     ]
    }
   ],
   "source": [
    "n=5\n",
    "\n",
    "for i in range(10):\n",
    "    print(n,\"*\",i+1,\"=\",n*(i+1))"
   ]
  },
  {
   "cell_type": "markdown",
   "metadata": {},
   "source": [
    "3.\tWrite a Python Program to Print the Fibonacci sequence?"
   ]
  },
  {
   "cell_type": "code",
   "execution_count": 26,
   "metadata": {},
   "outputs": [
    {
     "name": "stdout",
     "output_type": "stream",
     "text": [
      "0\n",
      "1\n",
      "1\n",
      "2\n",
      "3\n"
     ]
    }
   ],
   "source": [
    "n=5\n",
    "\n",
    "a=0\n",
    "b=1\n",
    "print(a)\n",
    "print(b)\n",
    "for i in range(n-2):\n",
    "    c=a+b\n",
    "    print(c)\n",
    "    a=b\n",
    "    b=c\n",
    "    "
   ]
  },
  {
   "cell_type": "markdown",
   "metadata": {},
   "source": [
    "4.\tWrite a Python Program to Check Armstrong Number?"
   ]
  },
  {
   "cell_type": "code",
   "execution_count": 28,
   "metadata": {},
   "outputs": [
    {
     "name": "stdout",
     "output_type": "stream",
     "text": [
      "Yes it is a armstrong number\n"
     ]
    }
   ],
   "source": [
    "def armstrong_num(n):\n",
    "    temp1=n\n",
    "    temp=n\n",
    "    digits=0\n",
    "    while(temp>0):\n",
    "        digits+=1\n",
    "        temp=temp//10\n",
    "    sum=0\n",
    "    for i in range(digits):\n",
    "        remain=n%10\n",
    "        n=n//10\n",
    "        sum=sum+(remain**digits)\n",
    "    if(sum==temp1):\n",
    "        print(\"Yes it is a armstrong number\")\n",
    "    else:\n",
    "        print(\"No its not an armstrong number\")\n",
    "    \n",
    "    \n",
    "armstrong_num(371)"
   ]
  },
  {
   "cell_type": "markdown",
   "metadata": {},
   "source": [
    "5.\tWrite a Python Program to Find Armstrong Number in an Interval?"
   ]
  },
  {
   "cell_type": "code",
   "execution_count": 29,
   "metadata": {},
   "outputs": [
    {
     "name": "stdout",
     "output_type": "stream",
     "text": [
      "153  is a armstrong number\n",
      "370  is a armstrong number\n",
      "371  is a armstrong number\n",
      "407  is a armstrong number\n"
     ]
    }
   ],
   "source": [
    "def armstrong_num2(n):\n",
    "    temp1=n\n",
    "    temp=n\n",
    "    digits=0\n",
    "    while(temp>0):\n",
    "        digits+=1\n",
    "        temp=temp//10\n",
    "    sum=0\n",
    "    for i in range(digits):\n",
    "        remain=n%10\n",
    "        n=n//10\n",
    "        sum=sum+(remain**digits)\n",
    "    if(sum==temp1):\n",
    "        print(sum,\" is a armstrong number\")\n",
    "     \n",
    "def armstrong_interval(start,end):\n",
    "    for i in range(start,end+1):\n",
    "        armstrong_num2(i)\n",
    "        \n",
    "armstrong_interval(100,1000)"
   ]
  },
  {
   "cell_type": "markdown",
   "metadata": {},
   "source": [
    "6.\tWrite a Python Program to Find the Sum of Natural Numbers?"
   ]
  },
  {
   "cell_type": "code",
   "execution_count": 33,
   "metadata": {},
   "outputs": [
    {
     "name": "stdout",
     "output_type": "stream",
     "text": [
      "Sum is 15\n"
     ]
    }
   ],
   "source": [
    "n=5\n",
    "\n",
    "print(\"Sum is\",(n*(n+1))//2)"
   ]
  },
  {
   "cell_type": "code",
   "execution_count": null,
   "metadata": {},
   "outputs": [],
   "source": []
  }
 ],
 "metadata": {
  "kernelspec": {
   "display_name": "Python 3",
   "language": "python",
   "name": "python3"
  },
  "language_info": {
   "codemirror_mode": {
    "name": "ipython",
    "version": 3
   },
   "file_extension": ".py",
   "mimetype": "text/x-python",
   "name": "python",
   "nbconvert_exporter": "python",
   "pygments_lexer": "ipython3",
   "version": "3.8.3"
  }
 },
 "nbformat": 4,
 "nbformat_minor": 4
}
