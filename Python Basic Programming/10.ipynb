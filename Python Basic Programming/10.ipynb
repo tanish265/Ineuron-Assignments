{
 "cells": [
  {
   "cell_type": "markdown",
   "metadata": {},
   "source": [
    "1.\tWrite a Python program to find sum of elements in list?"
   ]
  },
  {
   "cell_type": "code",
   "execution_count": 1,
   "metadata": {},
   "outputs": [
    {
     "name": "stdout",
     "output_type": "stream",
     "text": [
      "Sum of the list is 15\n"
     ]
    }
   ],
   "source": [
    "x=[1,2,3,4,5]\n",
    "\n",
    "sum=0\n",
    "for i in range(len(x)):\n",
    "    sum=sum+x[i]\n",
    "print(\"Sum of the list is\",sum)"
   ]
  },
  {
   "cell_type": "markdown",
   "metadata": {},
   "source": [
    "2.\tWrite a Python program to  Multiply all numbers in the list?"
   ]
  },
  {
   "cell_type": "code",
   "execution_count": 2,
   "metadata": {},
   "outputs": [
    {
     "name": "stdout",
     "output_type": "stream",
     "text": [
      "Answer is 120\n"
     ]
    }
   ],
   "source": [
    "x=[1,2,3,4,5]\n",
    "\n",
    "multiply=1\n",
    "for i in range(len(x)):\n",
    "    multiply=multiply*x[i]\n",
    "print(\"Answer is\",multiply)"
   ]
  },
  {
   "cell_type": "markdown",
   "metadata": {},
   "source": [
    "3.\tWrite a Python program to find smallest number in a list?"
   ]
  },
  {
   "cell_type": "code",
   "execution_count": 3,
   "metadata": {},
   "outputs": [
    {
     "name": "stdout",
     "output_type": "stream",
     "text": [
      "Minimum is -2\n"
     ]
    }
   ],
   "source": [
    "x=[1,2,3,-2,5]\n",
    "\n",
    "import sys\n",
    "min=sys.maxsize\n",
    "for i in range(len(x)):\n",
    "    if x[i]<min:\n",
    "        min=x[i]\n",
    "print(\"Minimum is\",min)"
   ]
  },
  {
   "cell_type": "markdown",
   "metadata": {},
   "source": [
    "4.\tWrite a Python program to find largest number in a list?"
   ]
  },
  {
   "cell_type": "code",
   "execution_count": 4,
   "metadata": {},
   "outputs": [
    {
     "name": "stdout",
     "output_type": "stream",
     "text": [
      "Maximum is 5\n"
     ]
    }
   ],
   "source": [
    "x=[1,2,3,-2,5]\n",
    "\n",
    "import sys\n",
    "max=-sys.maxsize\n",
    "for i in range(len(x)):\n",
    "    if x[i]>max:\n",
    "        max=x[i]\n",
    "print(\"Maximum is\",max)"
   ]
  },
  {
   "cell_type": "markdown",
   "metadata": {},
   "source": [
    "5.\tWrite a Python program to find second largest number in a list?"
   ]
  },
  {
   "cell_type": "code",
   "execution_count": 11,
   "metadata": {},
   "outputs": [
    {
     "name": "stdout",
     "output_type": "stream",
     "text": [
      "Second Maximum is 5\n"
     ]
    }
   ],
   "source": [
    "x=[1,2,3,-2,5,7]\n",
    "\n",
    "y=x.copy()\n",
    "index=0\n",
    "import sys\n",
    "max=-sys.maxsize \n",
    "for i in range(len(y)):\n",
    "    if y[i]>max:\n",
    "        max=y[i]\n",
    "        index=i\n",
    "y[index]=-10000\n",
    "\n",
    "max=-sys.maxsize \n",
    "for i in range(len(y)):\n",
    "    if y[i]>max:\n",
    "        max=y[i]\n",
    "        \n",
    "\n",
    "print(\"Second Maximum is\",max)"
   ]
  },
  {
   "cell_type": "markdown",
   "metadata": {},
   "source": [
    "6.\tWrite a Python program to find N largest elements from a list?"
   ]
  },
  {
   "cell_type": "code",
   "execution_count": 20,
   "metadata": {},
   "outputs": [
    {
     "name": "stdout",
     "output_type": "stream",
     "text": [
      "[9, 8, 5]\n"
     ]
    }
   ],
   "source": [
    "x=[1,4,5,3,8,9]\n",
    "n=3\n",
    "\n",
    "\n",
    "y=x.copy()\n",
    "y.sort(reverse=True)\n",
    "print(y[:n])"
   ]
  },
  {
   "cell_type": "markdown",
   "metadata": {},
   "source": [
    "7.\tWrite a Python program to print even numbers in a list?"
   ]
  },
  {
   "cell_type": "code",
   "execution_count": 14,
   "metadata": {},
   "outputs": [
    {
     "name": "stdout",
     "output_type": "stream",
     "text": [
      "2\n",
      "4\n"
     ]
    }
   ],
   "source": [
    "x=[1,2,3,4,5]\n",
    "\n",
    "for i in range(len(x)):\n",
    "    if x[i]%2==0:\n",
    "        print(x[i])"
   ]
  },
  {
   "cell_type": "markdown",
   "metadata": {},
   "source": [
    "8.\tWrite a Python program to print odd numbers in a List?"
   ]
  },
  {
   "cell_type": "code",
   "execution_count": 15,
   "metadata": {},
   "outputs": [
    {
     "name": "stdout",
     "output_type": "stream",
     "text": [
      "1\n",
      "3\n",
      "5\n"
     ]
    }
   ],
   "source": [
    "x=[1,2,3,4,5]\n",
    "\n",
    "for i in range(len(x)):\n",
    "    if x[i]%2!=0:\n",
    "        print(x[i])"
   ]
  },
  {
   "cell_type": "markdown",
   "metadata": {},
   "source": [
    "9.\tWrite a Python program to Remove empty List from List?"
   ]
  },
  {
   "cell_type": "code",
   "execution_count": 26,
   "metadata": {},
   "outputs": [
    {
     "data": {
      "text/plain": [
       "[1, 2, 3, 4, 5]"
      ]
     },
     "execution_count": 26,
     "metadata": {},
     "output_type": "execute_result"
    }
   ],
   "source": [
    "x=[1,2,3,[],4,5]\n",
    "\n",
    "\n",
    "y=[]\n",
    "for i in range(len(x)):\n",
    "    if type(x[i])==list and len(x[i])==0:\n",
    "        continue\n",
    "    else: \n",
    "        y.append(x[i])\n",
    "y"
   ]
  },
  {
   "cell_type": "markdown",
   "metadata": {},
   "source": [
    "10.\tWrite a Python program to Cloning or Copying a list?"
   ]
  },
  {
   "cell_type": "code",
   "execution_count": 21,
   "metadata": {},
   "outputs": [
    {
     "data": {
      "text/plain": [
       "[1, 2, 3, 4, 5]"
      ]
     },
     "execution_count": 21,
     "metadata": {},
     "output_type": "execute_result"
    }
   ],
   "source": [
    "x=[1,2,3,4,5]\n",
    "y=[]\n",
    "for i in range(len(x)):\n",
    "    y.append(x[i])\n",
    "y"
   ]
  },
  {
   "cell_type": "markdown",
   "metadata": {},
   "source": [
    "11.\tWrite a Python program to Count occurrences of an element in a list?"
   ]
  },
  {
   "cell_type": "code",
   "execution_count": 29,
   "metadata": {},
   "outputs": [
    {
     "name": "stdout",
     "output_type": "stream",
     "text": [
      "There are 2 occurences of element 1\n"
     ]
    }
   ],
   "source": [
    "x=[1,2,3,1,4,5]\n",
    "\n",
    "elem=1\n",
    "\n",
    "count=0\n",
    "for i in range(len(x)):\n",
    "    if(x[i]==elem):\n",
    "        count+=1\n",
    "\n",
    "print(\"There are\",count,\"occurences of element\",elem)"
   ]
  },
  {
   "cell_type": "code",
   "execution_count": null,
   "metadata": {},
   "outputs": [],
   "source": []
  }
 ],
 "metadata": {
  "kernelspec": {
   "display_name": "Python 3",
   "language": "python",
   "name": "python3"
  },
  "language_info": {
   "codemirror_mode": {
    "name": "ipython",
    "version": 3
   },
   "file_extension": ".py",
   "mimetype": "text/x-python",
   "name": "python",
   "nbconvert_exporter": "python",
   "pygments_lexer": "ipython3",
   "version": "3.8.3"
  }
 },
 "nbformat": 4,
 "nbformat_minor": 4
}
