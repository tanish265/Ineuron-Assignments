{
 "cells": [
  {
   "cell_type": "markdown",
   "metadata": {},
   "source": [
    "1.\tWrite a Python Program to find sum of array?"
   ]
  },
  {
   "cell_type": "code",
   "execution_count": 4,
   "metadata": {},
   "outputs": [
    {
     "data": {
      "text/plain": [
       "10"
      ]
     },
     "execution_count": 4,
     "metadata": {},
     "output_type": "execute_result"
    }
   ],
   "source": [
    "arr=[1,2,3,4]\n",
    "\n",
    "sum=0\n",
    "for i in range(len(arr)):\n",
    "    sum=sum+arr[i]\n",
    "\n",
    "sum"
   ]
  },
  {
   "cell_type": "markdown",
   "metadata": {},
   "source": [
    "2.\tWrite a Python Program to find largest element in an array?"
   ]
  },
  {
   "cell_type": "code",
   "execution_count": 5,
   "metadata": {},
   "outputs": [
    {
     "data": {
      "text/plain": [
       "7"
      ]
     },
     "execution_count": 5,
     "metadata": {},
     "output_type": "execute_result"
    }
   ],
   "source": [
    "arr=[1,2,7,3,4]\n",
    "\n",
    "largest=arr[0]\n",
    "for i in range(1,len(arr)):\n",
    "    if(arr[i]>largest):\n",
    "        largest=arr[i]\n",
    "\n",
    "largest"
   ]
  },
  {
   "cell_type": "markdown",
   "metadata": {},
   "source": [
    "3.\tWrite a Python Program for array rotation?"
   ]
  },
  {
   "cell_type": "code",
   "execution_count": 8,
   "metadata": {},
   "outputs": [
    {
     "data": {
      "text/plain": [
       "[4, 3, 7, 2, 1]"
      ]
     },
     "execution_count": 8,
     "metadata": {},
     "output_type": "execute_result"
    }
   ],
   "source": [
    "def rot_array(arr):\n",
    "    arr.reverse()\n",
    "    return arr\n",
    "\n",
    "arr=[1,2,7,3,4]\n",
    "rot_array(arr)\n",
    "arr"
   ]
  },
  {
   "cell_type": "markdown",
   "metadata": {},
   "source": [
    "4.\tWrite a Python Program to Split the array and add the first part to the end?"
   ]
  },
  {
   "cell_type": "code",
   "execution_count": 28,
   "metadata": {},
   "outputs": [
    {
     "data": {
      "text/plain": [
       "array([3, 4, 5, 1, 2])"
      ]
     },
     "execution_count": 28,
     "metadata": {},
     "output_type": "execute_result"
    }
   ],
   "source": [
    "input_arr=[1,2,3,4,5]\n",
    "\n",
    "import numpy as np\n",
    "arr=np.array(input_arr)\n",
    "split=arr.size//2\n",
    "arr1=arr[:split]\n",
    "arr2=arr[split:]\n",
    "\n",
    "arr3=np.concatenate((arr2,arr1))\n",
    "arr3"
   ]
  },
  {
   "cell_type": "markdown",
   "metadata": {},
   "source": [
    "5.\tWrite a Python Program to check if given array is Monotonic?"
   ]
  },
  {
   "cell_type": "code",
   "execution_count": 21,
   "metadata": {},
   "outputs": [
    {
     "name": "stdout",
     "output_type": "stream",
     "text": [
      "yes it is monotonic\n"
     ]
    }
   ],
   "source": [
    "arr=[1,2,3,8,15]\n",
    "\n",
    "cinc=0\n",
    "for i in range(len(arr)-1):\n",
    "    if(arr[i]<arr[i+1]):\n",
    "        cinc=0\n",
    "    else:\n",
    "        cinc=1\n",
    "        break\n",
    "\n",
    "cdec=0\n",
    "for i in range(len(arr)-1):\n",
    "    if(arr[i]>arr[i+1]):\n",
    "        cdec=0\n",
    "    else:\n",
    "        cdec=1\n",
    "        break\n",
    "\n",
    "if(cinc==0 or cdec==0):\n",
    "    print(\"yes it is monotonic\")\n",
    "else:\n",
    "    print(\"not monotonic\")\n"
   ]
  },
  {
   "cell_type": "code",
   "execution_count": null,
   "metadata": {},
   "outputs": [],
   "source": []
  }
 ],
 "metadata": {
  "kernelspec": {
   "display_name": "Python 3",
   "language": "python",
   "name": "python3"
  },
  "language_info": {
   "codemirror_mode": {
    "name": "ipython",
    "version": 3
   },
   "file_extension": ".py",
   "mimetype": "text/x-python",
   "name": "python",
   "nbconvert_exporter": "python",
   "pygments_lexer": "ipython3",
   "version": "3.8.3"
  }
 },
 "nbformat": 4,
 "nbformat_minor": 4
}
