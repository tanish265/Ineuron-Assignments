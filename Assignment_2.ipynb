{
 "cells": [
  {
   "cell_type": "markdown",
   "metadata": {},
   "source": [
    "Q1. What are the Boolean data type's two values? How do you go about writing them?\n",
    "\n",
    "Ans- True and False.\n",
    "Eg 2+1 == 3 returns True"
   ]
  },
  {
   "cell_type": "markdown",
   "metadata": {},
   "source": [
    "Q2. What are the three different types of Boolean operators?\n",
    "\n",
    "Ans- and ,or,not "
   ]
  },
  {
   "cell_type": "markdown",
   "metadata": {},
   "source": [
    "Q3. Make a list of each Boolean operator's truth tables (i.e. every possible combination of Boolean values for the operator and what it evaluate ).\n",
    "\n",
    "Ans- \n",
    "\n",
    "a b a-and-b\n",
    "\n",
    "0 0   0\n",
    "\n",
    "0 1   0\n",
    "\n",
    "1 0   0\n",
    "\n",
    "1 1   1\n",
    "\n",
    "\n",
    "a b a-or-b\n",
    "\n",
    "0 0   0\n",
    "\n",
    "0 1   1\n",
    "\n",
    "1 0   1\n",
    "\n",
    "1 1   1\n",
    "\n",
    "\n",
    "a not-a\n",
    "\n",
    "0   1   \n",
    "\n",
    "1   0   "
   ]
  },
  {
   "cell_type": "markdown",
   "metadata": {},
   "source": [
    "Q4. What are the values of the following expressions?\n",
    "\n",
    "Ans-\n",
    "\n",
    "(5 > 4) and (3 == 5) ----- False\n",
    "\n",
    "not (5 > 4) ----- False\n",
    "\n",
    "(5 > 4) or (3 == 5) ----- True\n",
    "\n",
    "not ((5 > 4) or (3 == 5)) ----- False\n",
    "\n",
    "(True and True) and (True == False) ----False\n",
    "\n",
    "(not False) or (not True) ----- True\n",
    "\n"
   ]
  },
  {
   "cell_type": "markdown",
   "metadata": {},
   "source": [
    "Q5. What are the six different types of comparison operators?\n",
    "\n",
    "Ans. == Equal\n",
    "\n",
    "    != Not equal\n",
    "\n",
    "    > Greater than\n",
    "\n",
    "    < Less than\n",
    "\n",
    "    >= Greater than or equal to\n",
    "\n",
    "    <= Less than or equal to"
   ]
  },
  {
   "cell_type": "markdown",
   "metadata": {},
   "source": [
    "Q6. How do you tell the difference between the equal to and assignment operators?\n",
    "\n",
    "Ans- Equal to(==) operator compares to operands and return boolean values while assignment operator(=) assigns a value to a variable."
   ]
  },
  {
   "cell_type": "markdown",
   "metadata": {},
   "source": [
    "Q7. Describe a condition and when you would use one.\n",
    "\n",
    "Ans- If I want to check whether two values say 5 and 6 are equal or not,I will use comparison operator. Eg. 5==6 returns False. While if I want to assign value 5 to a variable say temp,I will use assignment operator(=) eg. temp=5."
   ]
  },
  {
   "cell_type": "markdown",
   "metadata": {},
   "source": [
    "Q8. Recognize the following three blocks in this code:\n",
    "\n",
    "spam = 0\n",
    "\n",
    "if spam == 10:\n",
    "\n",
    "    print('eggs')\n",
    "\n",
    "    if spam > 5:\n",
    "\n",
    "        print('bacon')\n",
    "\n",
    "    else:\n",
    "\n",
    "        print('ham')\n",
    "\n",
    "    print('spam')\n",
    "\n",
    "print('spam')\n",
    "\n",
    "Ans- 'spam'\n",
    "\n",
    "    'spam'"
   ]
  },
  {
   "cell_type": "markdown",
   "metadata": {},
   "source": [
    "Q9. Write code that prints Hello if 1 is stored in spam, prints Howdy if 2 is stored in spam, and prints Greetings! if anything else is stored in spam.\n",
    "\n",
    "Ans-"
   ]
  },
  {
   "cell_type": "code",
   "execution_count": 11,
   "metadata": {},
   "outputs": [
    {
     "name": "stdout",
     "output_type": "stream",
     "text": [
      "Greetings!\n"
     ]
    }
   ],
   "source": [
    "if spam == 1:\n",
    "    print('Hello')\n",
    "elif spam==2:\n",
    "    print(\"Howdy\")\n",
    "else:\n",
    "    print(\"Greetings!\")"
   ]
  },
  {
   "cell_type": "markdown",
   "metadata": {},
   "source": [
    "Q10.If your programme is stuck in an endless loop, what keys can you press?\n",
    "\n",
    "Ans- Ctrl c or Ctrl z"
   ]
  },
  {
   "cell_type": "markdown",
   "metadata": {},
   "source": [
    "Q11. How can you tell the difference between break and continue?\n",
    "\n",
    "Ans- break stops the continuation of the loop and get out of the loop. continue skips the current iteration in the loop and move to the next iteration."
   ]
  },
  {
   "cell_type": "code",
   "execution_count": 14,
   "metadata": {},
   "outputs": [
    {
     "name": "stdout",
     "output_type": "stream",
     "text": [
      "0\n",
      "1\n",
      "2\n",
      "3\n",
      "4\n",
      "5\n",
      "6\n",
      "7\n",
      "8\n",
      "9\n"
     ]
    }
   ],
   "source": [
    "for i in range(0,10):\n",
    "    print(i)"
   ]
  },
  {
   "cell_type": "markdown",
   "metadata": {},
   "source": [
    "Q12. What is the difference between range(10), range(0, 10), and range(0, 10, 1) in a for loop?\n",
    "\n",
    "Ans- All will iterate from 0 to 9\n",
    "\n",
    "range(10) will start i from 0 to 9\n",
    "\n",
    "range(0,10) will range i from 0 to 9\n",
    "\n",
    "range(0,10,1) will start i from 0 to 9 with a increase of 1 in i in each iteration\n"
   ]
  },
  {
   "cell_type": "markdown",
   "metadata": {},
   "source": [
    "Q13. Write a short program that prints the numbers 1 to 10 using a for loop. Then write an equivalent program that prints the numbers 1 to 10 using a while loop.\n",
    "\n",
    "Ans-"
   ]
  },
  {
   "cell_type": "code",
   "execution_count": 16,
   "metadata": {},
   "outputs": [
    {
     "name": "stdout",
     "output_type": "stream",
     "text": [
      "1\n",
      "2\n",
      "3\n",
      "4\n",
      "5\n",
      "6\n",
      "7\n",
      "8\n",
      "9\n",
      "10\n"
     ]
    }
   ],
   "source": [
    "for i in range(10):\n",
    "    print(i+1)"
   ]
  },
  {
   "cell_type": "code",
   "execution_count": 20,
   "metadata": {},
   "outputs": [
    {
     "name": "stdout",
     "output_type": "stream",
     "text": [
      "1\n",
      "2\n",
      "3\n",
      "4\n",
      "5\n",
      "6\n",
      "7\n",
      "8\n",
      "9\n",
      "10\n"
     ]
    }
   ],
   "source": [
    "i=1\n",
    "while(i<=10):\n",
    "    print(i)\n",
    "    i+=1"
   ]
  },
  {
   "cell_type": "markdown",
   "metadata": {},
   "source": [
    "Q14.If you had a function named bacon() inside a module named spam, how would you call it after importing spam?\n",
    "\n",
    "Ans- spam.bacon()"
   ]
  },
  {
   "cell_type": "code",
   "execution_count": null,
   "metadata": {},
   "outputs": [],
   "source": []
  }
 ],
 "metadata": {
  "kernelspec": {
   "display_name": "Python 3",
   "language": "python",
   "name": "python3"
  },
  "language_info": {
   "codemirror_mode": {
    "name": "ipython",
    "version": 3
   },
   "file_extension": ".py",
   "mimetype": "text/x-python",
   "name": "python",
   "nbconvert_exporter": "python",
   "pygments_lexer": "ipython3",
   "version": "3.8.3"
  }
 },
 "nbformat": 4,
 "nbformat_minor": 4
}
