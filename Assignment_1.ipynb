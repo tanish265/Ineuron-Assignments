{
 "cells": [
  {
   "cell_type": "markdown",
   "metadata": {},
   "source": [
    "Q1. What are the differences between operators and values in the following?"
   ]
  },
  {
   "cell_type": "markdown",
   "metadata": {},
   "source": [
    "Ans-Operators are special symbols in Python that carry out arithmetic or logical computation. The value that the operator operates on is called the operand.\n",
    "\n",
    "\"*\" It is an operator\n",
    "\n",
    "'hello' It is a string\n",
    "\n",
    "\"-87.8\" It is a float number\n",
    "\n",
    "\"-\"  It is an operator\n",
    "\n",
    "\"/\" It is an operator\n",
    "\n",
    "\"+\" It is an operator\n",
    "\n",
    "6 It is a integer\n"
   ]
  },
  {
   "cell_type": "markdown",
   "metadata": {},
   "source": [
    "Q2. What is the difference between string and variable?\n",
    "\n",
    "Spam---it is a variable\n",
    "\n",
    "'spam'---it is a string\n",
    "\n",
    "Ans-A variable is a store of an information and string can be stored in it. String is a data type.\n"
   ]
  },
  {
   "cell_type": "markdown",
   "metadata": {},
   "source": [
    "Q3. Describe three different data forms.\n",
    "\n",
    "Ans-Integer,Strings,Boolean.\n"
   ]
  },
  {
   "cell_type": "markdown",
   "metadata": {},
   "source": [
    "Q4. What makes up an expression? What are the functions of all expressions?\n",
    "\n",
    "Ans- An expression is a combination of values, variables, operators and calls to functions. Expressions needs to be evaluated which is the main purpose of them.\n"
   ]
  },
  {
   "cell_type": "markdown",
   "metadata": {},
   "source": [
    "Q5. In this chapter, assignment statements such as spam = 10 were added. What's the difference between a declaration and an expression?\n"
   ]
  },
  {
   "cell_type": "markdown",
   "metadata": {},
   "source": [
    "An expression evaluates to a single value. A declaration does not."
   ]
  },
  {
   "cell_type": "markdown",
   "metadata": {},
   "source": [
    "Q6. After running the following code, what does the variable bacon contain?\n",
    "\n",
    "bacon = 22\n",
    "\n",
    "bacon + 1\n",
    "\n",
    "Ans=22\n"
   ]
  },
  {
   "cell_type": "markdown",
   "metadata": {},
   "source": [
    "Q7. What should the values of the following two terms be?\n",
    "\n",
    "Ans ---\n",
    "\n",
    "'spam' + 'spamspam' == ‘spamspamspam’\n",
    "\n",
    "'spam' * 3 == ‘spamspamspam’\n"
   ]
  },
  {
   "cell_type": "markdown",
   "metadata": {},
   "source": [
    "Q8. Why is it that eggs is a true variable name but 100 is not?\n",
    "\n",
    "Ans-Variable names cannot begin with a number.\n"
   ]
  },
  {
   "cell_type": "markdown",
   "metadata": {},
   "source": [
    "Q9. Which of the following three functions may be used to convert a value to an integer, a floating-point number, or a string?\n",
    "\n",
    "Ans- int(x) , float(x) , str(x)\n"
   ]
  },
  {
   "cell_type": "markdown",
   "metadata": {},
   "source": [
    "Q10. What is the error caused by this expression? What would you do about it?\n",
    "\n",
    "'I have eaten ' + 99 + ' burritos.'\n",
    "\n",
    "Ans-TypeError: unsupported operand type(s) for +: 'float' and 'str'\n",
    "\n",
    "\n",
    "Integer cannot be added(concatenated) to a string. Make 99 as string with str(99) command and then concatenate.\n"
   ]
  },
  {
   "cell_type": "code",
   "execution_count": null,
   "metadata": {},
   "outputs": [],
   "source": []
  }
 ],
 "metadata": {
  "kernelspec": {
   "display_name": "Python 3",
   "language": "python",
   "name": "python3"
  },
  "language_info": {
   "codemirror_mode": {
    "name": "ipython",
    "version": 3
   },
   "file_extension": ".py",
   "mimetype": "text/x-python",
   "name": "python",
   "nbconvert_exporter": "python",
   "pygments_lexer": "ipython3",
   "version": "3.8.3"
  }
 },
 "nbformat": 4,
 "nbformat_minor": 4
}
